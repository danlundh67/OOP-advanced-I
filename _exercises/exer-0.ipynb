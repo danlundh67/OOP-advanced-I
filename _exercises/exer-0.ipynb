{
 "cells": [
  {
   "cell_type": "markdown",
   "metadata": {},
   "source": [
    "| employeeID | name    | department | salary |\n",
    "| ---------: | :------ | :--------- | ------ |\n",
    "|          0 | Alice   | HR         | 31000  |\n",
    "|          1 | Bob     | IT         | 41000  |\n",
    "|          2 | Charlie | HR         | 28000  |"
   ]
  },
  {
   "cell_type": "code",
   "execution_count": 2,
   "metadata": {},
   "outputs": [
    {
     "data": {
      "text/plain": [
       "{'name': 'Bob', 'department': 'IT', 'salary': 41000}"
      ]
     },
     "execution_count": 2,
     "metadata": {},
     "output_type": "execute_result"
    }
   ],
   "source": [
    "data={0:{'name': 'Alice', 'department': 'HR', 'salary': 31000 },\n",
    "      1:{'name': 'Bob', 'department': 'IT', 'salary': 41000},\n",
    "      2:{'name': 'Charlie', 'department': 'HR', 'salary': 28000}}\n",
    "\n",
    "data[1]"
   ]
  },
  {
   "cell_type": "code",
   "execution_count": 12,
   "metadata": {},
   "outputs": [
    {
     "name": "stdout",
     "output_type": "stream",
     "text": [
      " Alice works in the department HR and earns 31000\n",
      " Bob works in the department IT and earns 41000\n",
      " Charlie works in the department HR and earns 28000\n"
     ]
    }
   ],
   "source": [
    "for p_id, p_info in data.items():\n",
    "    print(f'',p_info['name'],'works in the department',p_info['department'],'and earns',p_info['salary'])"
   ]
  },
  {
   "cell_type": "code",
   "execution_count": 20,
   "metadata": {},
   "outputs": [
    {
     "name": "stdout",
     "output_type": "stream",
     "text": [
      "{'name': 'Bob', 'department': 'IT', 'salary': 41000}\n",
      "41000.0\n"
     ]
    }
   ],
   "source": [
    "def myaverage(finder):\n",
    "    sum=0.000\n",
    "    antal=0\n",
    "    for k,v in data.items():\n",
    "        if (v['department'] == finder):\n",
    "            print(v)\n",
    "            sum=sum+v['salary']\n",
    "            antal = antal+1\n",
    "    if (antal > 0):\n",
    "        return sum/antal\n",
    "    else:\n",
    "        return 0\n",
    "print(myaverage('IT'))"
   ]
  },
  {
   "cell_type": "code",
   "execution_count": 21,
   "metadata": {},
   "outputs": [
    {
     "name": "stdout",
     "output_type": "stream",
     "text": [
      "{'name': 'Alice', 'department': 'HR', 'salary': 31000}\n",
      "{'name': 'Charlie', 'department': 'HR', 'salary': 28000}\n",
      "29500.0\n"
     ]
    }
   ],
   "source": [
    "print(myaverage('HR'))"
   ]
  },
  {
   "cell_type": "code",
   "execution_count": 23,
   "metadata": {},
   "outputs": [
    {
     "name": "stdout",
     "output_type": "stream",
     "text": [
      "{'name': 'Alice', 'department': 'HR', 'salary': 31000}\n",
      "{'name': 'Charlie', 'department': 'HR', 'salary': 28000}\n"
     ]
    }
   ],
   "source": [
    "def myfinder(finder):\n",
    "    result=[]\n",
    "    for k,v in data.items():\n",
    "        if (v['department'] == finder):\n",
    "            result.append(v)\n",
    "    return result\n",
    "for x in myfinder('HR'):\n",
    "    print(x)"
   ]
  },
  {
   "cell_type": "code",
   "execution_count": null,
   "metadata": {},
   "outputs": [],
   "source": []
  }
 ],
 "metadata": {
  "kernelspec": {
   "display_name": "venv",
   "language": "python",
   "name": "python3"
  },
  "language_info": {
   "codemirror_mode": {
    "name": "ipython",
    "version": 3
   },
   "file_extension": ".py",
   "mimetype": "text/x-python",
   "name": "python",
   "nbconvert_exporter": "python",
   "pygments_lexer": "ipython3",
   "version": "3.11.7"
  }
 },
 "nbformat": 4,
 "nbformat_minor": 2
}
